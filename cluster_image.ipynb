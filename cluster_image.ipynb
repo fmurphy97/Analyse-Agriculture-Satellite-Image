{
 "cells": [
  {
   "cell_type": "code",
   "execution_count": null,
   "outputs": [],
   "source": [
    "import cv2\n",
    "import numpy as np\n",
    "from sklearn.cluster import KMeans\n",
    "from sklearn.metrics import calinski_harabasz_score, silhouette_score\n",
    "import matplotlib.pyplot as plt\n",
    "from tqdm import tqdm"
   ],
   "metadata": {
    "collapsed": false,
    "pycharm": {
     "name": "#%%\n"
    }
   }
  },
  {
   "cell_type": "code",
   "execution_count": null,
   "outputs": [],
   "source": [
    "# Load the image\n",
    "image = cv2.imread(\"Images/sample_img_1.png\")"
   ],
   "metadata": {
    "collapsed": false,
    "pycharm": {
     "name": "#%%\n"
    }
   }
  },
  {
   "cell_type": "code",
   "execution_count": null,
   "outputs": [],
   "source": [
    "def calculate_silhouette(x, y):\n",
    "    # Set the sample size for calculation\n",
    "    sample_size = 5000\n",
    "\n",
    "    # Randomly select a sample from X and corresponding labels\n",
    "    indices = np.random.choice(len(x), size=sample_size, replace=False)\n",
    "    X_sample = X[indices]\n",
    "    labels_sample = y[indices]\n",
    "\n",
    "    # Calculate the silhouette score for the sample\n",
    "    silhouette_avg = silhouette_score(X_sample, labels_sample)\n",
    "    return silhouette_avg"
   ],
   "metadata": {
    "collapsed": false,
    "pycharm": {
     "name": "#%%\n"
    }
   }
  },
  {
   "cell_type": "code",
   "execution_count": null,
   "outputs": [],
   "source": [
    "k_min = 3\n",
    "k_max = 15\n",
    "\n",
    "model_score = np.zeros(shape=(3,(k_max-k_min)))\n",
    "model_score.shape"
   ],
   "metadata": {
    "collapsed": false,
    "pycharm": {
     "name": "#%%\n"
    }
   }
  },
  {
   "cell_type": "code",
   "execution_count": null,
   "outputs": [],
   "source": [
    "hsv_image = cv2.cvtColor(image, cv2.COLOR_BGR2Lab)\n",
    "\n",
    "X=hsv_image.reshape(-1, 3)\n",
    "\n",
    "k_min = 2\n",
    "k_max = 20\n",
    "\n",
    "model_score = np.zeros(shape=(3,(k_max-k_min)))\n",
    "for i in tqdm(range(k_max - k_min)):\n",
    "    kmeans = KMeans(n_clusters = k_min + i, init = 'k-means++', random_state = 42, n_init='auto')\n",
    "    cluster_labels  = kmeans.fit_predict(X)\n",
    "    model_score[0][i] = silhouette_score(X, cluster_labels, sample_size=5000)\n",
    "    model_score[1][i] = calinski_harabasz_score(X, cluster_labels)\n",
    "    model_score[2][i] = kmeans.inertia_\n"
   ],
   "metadata": {
    "collapsed": false,
    "pycharm": {
     "name": "#%%\n"
    }
   }
  },
  {
   "cell_type": "code",
   "execution_count": null,
   "outputs": [],
   "source": [
    "fig, axs = plt.subplots(1,3, figsize=(15,5))\n",
    "\n",
    "axs[0].plot(range(k_min, model_score.shape[1]+k_min), model_score[0], 'gs-')\n",
    "axs[0].set_title(\"silhouette_score\")\n",
    "\n",
    "axs[1].plot(range(k_min, model_score.shape[1]+k_min), model_score[1], 'gs-')\n",
    "axs[1].set_title(\"calinski_harabasz_score\")\n",
    "\n",
    "axs[2].plot(range(k_min, model_score.shape[1]+k_min), model_score[2], 'gs-')\n",
    "axs[2].set_title(\"kmeans.inertia\")\n",
    "\n",
    "\n",
    "plt.show()"
   ],
   "metadata": {
    "collapsed": false,
    "pycharm": {
     "name": "#%%\n"
    }
   }
  },
  {
   "cell_type": "code",
   "execution_count": null,
   "outputs": [],
   "source": [
    "# How many clusters to use\n",
    "cluster_final_num = 15"
   ],
   "metadata": {
    "collapsed": false,
    "pycharm": {
     "name": "#%%\n"
    }
   }
  },
  {
   "cell_type": "code",
   "execution_count": null,
   "outputs": [],
   "source": [
    "kmeans = KMeans(n_clusters=cluster_final_num, random_state=42, n_init='auto')\n",
    "labels = kmeans.fit_predict(X)\n",
    "\n",
    "\n",
    "# Reshape labels back to the original image shape\n",
    "clustered_image = labels.reshape(image.shape[:-1])"
   ],
   "metadata": {
    "collapsed": false,
    "pycharm": {
     "name": "#%%\n"
    }
   }
  },
  {
   "cell_type": "code",
   "execution_count": null,
   "outputs": [],
   "source": [
    "# Display the original and clustered images\n",
    "plt.figure(figsize=(10, 5))\n",
    "plt.subplot(1, 2, 1)\n",
    "plt.imshow(cv2.cvtColor(image, cv2.COLOR_BGR2RGB))\n",
    "plt.title('Original Image')\n",
    "plt.axis('off')\n",
    "\n",
    "plt.subplot(1, 2, 2)\n",
    "plt.imshow(clustered_image, cmap='viridis')\n",
    "plt.title(f'Clustered Image ({cluster_final_num} Clusters)')\n",
    "plt.axis('off')\n",
    "\n",
    "plt.tight_layout()\n",
    "plt.show()"
   ],
   "metadata": {
    "collapsed": false,
    "pycharm": {
     "name": "#%%\n"
    }
   }
  }
 ],
 "metadata": {
  "kernelspec": {
   "display_name": "Python 3",
   "language": "python",
   "name": "python3"
  },
  "language_info": {
   "codemirror_mode": {
    "name": "ipython",
    "version": 2
   },
   "file_extension": ".py",
   "mimetype": "text/x-python",
   "name": "python",
   "nbconvert_exporter": "python",
   "pygments_lexer": "ipython2",
   "version": "2.7.6"
  }
 },
 "nbformat": 4,
 "nbformat_minor": 0
}