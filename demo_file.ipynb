{
 "cells": [
  {
   "cell_type": "code",
   "execution_count": null,
   "outputs": [],
   "source": [
    "import cv2\n",
    "import matplotlib.pyplot as plt\n",
    "\n",
    "from tkinter import filedialog\n",
    "from pathlib import Path\n",
    "\n",
    "from image_analyser import ImageAnalyser"
   ],
   "metadata": {
    "collapsed": false,
    "pycharm": {
     "name": "#%%\n"
    }
   }
  },
  {
   "cell_type": "code",
   "execution_count": null,
   "outputs": [],
   "source": [
    "input_image_path = filedialog.askopenfilename()"
   ],
   "metadata": {
    "collapsed": false,
    "pycharm": {
     "name": "#%%\n"
    }
   }
  },
  {
   "cell_type": "code",
   "execution_count": null,
   "outputs": [],
   "source": [
    "image_analyser = ImageAnalyser(input_image_path)\n",
    "image_analyser.analyse_img()"
   ],
   "metadata": {
    "collapsed": false,
    "pycharm": {
     "name": "#%%\n"
    }
   }
  },
  {
   "cell_type": "code",
   "execution_count": null,
   "outputs": [],
   "source": [
    "green_rat = image_analyser.color_ratio\n",
    "print(\"The green surface area is of \", round(green_rat * 100, 1), \"%\")"
   ],
   "metadata": {
    "collapsed": false,
    "pycharm": {
     "name": "#%%\n"
    }
   }
  },
  {
   "cell_type": "code",
   "execution_count": null,
   "outputs": [],
   "source": [
    "plt.imshow(cv2.cvtColor(image_analyser.img, cv2.COLOR_BGR2RGB))\n",
    "plt.axis('off')\n",
    "plt.show()"
   ],
   "metadata": {
    "collapsed": false,
    "pycharm": {
     "name": "#%%\n"
    }
   }
  },
  {
   "cell_type": "code",
   "execution_count": null,
   "outputs": [],
   "source": [
    "plt.imshow(cv2.cvtColor(image_analyser.color_mask, cv2.COLOR_BGR2RGB))\n",
    "plt.axis('off')\n",
    "plt.show()"
   ],
   "metadata": {
    "collapsed": false,
    "pycharm": {
     "name": "#%%\n"
    }
   }
  },
  {
   "cell_type": "code",
   "execution_count": null,
   "outputs": [],
   "source": [
    "plt.imshow(cv2.cvtColor(image_analyser.lot_mask, cv2.COLOR_BGR2RGB))\n",
    "plt.axis('off')\n",
    "plt.show()"
   ],
   "metadata": {
    "collapsed": false,
    "pycharm": {
     "name": "#%%\n"
    }
   }
  },
  {
   "cell_type": "code",
   "execution_count": null,
   "outputs": [],
   "source": [
    "plt.imshow(cv2.cvtColor(image_analyser.overlay_img, cv2.COLOR_BGR2RGB))\n",
    "plt.axis('off')\n",
    "plt.title(f\"{round(green_rat * 100, 1)}%\")\n",
    "plt.show()"
   ],
   "metadata": {
    "collapsed": false,
    "pycharm": {
     "name": "#%%\n"
    }
   }
  },
  {
   "cell_type": "code",
   "execution_count": null,
   "outputs": [],
   "source": [
    "ImageAnalyser.COLOR_HSV_RANGES = [(21, 12, 122), (56, 81, 203)]\n",
    "ImageAnalyser.COLOR_HSV_RANGES = [(22, 55, 11), (91, 255, 255)]\n",
    "\n",
    "# Folder path containing the files\n",
    "folder_path = Path(\"./Images/drone_images\")\n",
    "\n",
    "# Iterate over files in the folder\n",
    "for file_path in folder_path.iterdir():\n",
    "    # Create a new folder path one level inside the original folder\n",
    "    new_folder_path = file_path.parent / \"output\"\n",
    "    # Create the new folder if it doesn't exist\n",
    "    new_folder_path.mkdir(parents=True, exist_ok=True)\n",
    "    # Construct the new image path\n",
    "    new_image_path = new_folder_path / file_path.name\n",
    "\n",
    "    image_analyser = ImageAnalyser(str(file_path))\n",
    "    image_analyser.analyse_img()\n",
    "\n",
    "\n",
    "    plt.imshow(cv2.cvtColor(image_analyser.overlay_img, cv2.COLOR_BGR2RGB))\n",
    "    plt.axis('off')\n",
    "    plt.title(f\"{round(image_analyser.color_ratio * 100, 1)}%\")\n",
    "    plt.savefig(new_image_path, bbox_inches='tight', pad_inches=0)\n",
    "    plt.close()\n",
    "\n",
    "    # Process the file\n",
    "    print(file_path)"
   ],
   "metadata": {
    "collapsed": false,
    "pycharm": {
     "name": "#%%\n"
    }
   }
  }
 ],
 "metadata": {
  "kernelspec": {
   "display_name": "Python 3",
   "language": "python",
   "name": "python3"
  },
  "language_info": {
   "codemirror_mode": {
    "name": "ipython",
    "version": 2
   },
   "file_extension": ".py",
   "mimetype": "text/x-python",
   "name": "python",
   "nbconvert_exporter": "python",
   "pygments_lexer": "ipython2",
   "version": "2.7.6"
  }
 },
 "nbformat": 4,
 "nbformat_minor": 0
}